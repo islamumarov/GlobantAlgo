{
 "cells": [
  {
   "cell_type": "markdown",
   "source": [
    "### 1. Дан массив целых положительных чисел. вернуть максимальное число которое можно получить слиянием имеющихся чисел. вернуть строкой.\n",
    "* nums = [5,25] -> \"525\"\n",
    "* nums = [30,10] -> \"3010\"\n",
    "* nums = [2,7] -> \"72\" \n"
   ],
   "metadata": {}
  },
  {
   "cell_type": "code",
   "execution_count": null,
   "source": [
    "string getMax(int[] arr)\r\n",
    "{\r\n",
    "    List<string> vs= new List<string>();\r\n",
    "    foreach (int i in arr)\r\n",
    "    {\r\n",
    "        vs.Add(i.ToString());\r\n",
    "    }\r\n",
    "    vs.Sort((a,b)=> b.CompareTo(a));\r\n",
    "    return string.Join(\"\", vs);\r\n",
    "}\r\n",
    "var array = new int[] { 7, 2, 3, 10, 16, 15 };\r\n",
    "\r\n",
    "Console.WriteLine(getMax(array));"
   ],
   "outputs": [
    {
     "output_type": "stream",
     "name": "stdout",
     "text": [
      "732161510\r\n"
     ]
    }
   ],
   "metadata": {
    "dotnet_interactive": {
     "language": "csharp"
    }
   }
  },
  {
   "cell_type": "markdown",
   "source": [
    "2.  На экскурсию с дегустацией в кондитерскую приходят обжоры (people - массив с кол-вом килограммов, которые они съедят). найти минимальное количество тортов, которые они съедят, если все торты одинакового размера (limit). каждый обжора должен съесть все свои килограммы с одного торта.\n",
    "* ``people = [1,2], limit = 3 -> 1\n",
    "people = [3,5,3,4], limit = 5 -> 4``"
   ],
   "metadata": {}
  },
  {
   "cell_type": "code",
   "execution_count": null,
   "source": [
    "int GetCount(int[] people, int limit){\r\n",
    "    List<int> list = new List<int>(people.Length);\r\n",
    "    for(int i = 0; i < people.Length; i++) list.Add(limit);\r\n",
    "    int count = 0;\r\n",
    "    int j = 0;\r\n",
    "    foreach (int i in people)\r\n",
    "    {\r\n",
    "        if(i < limit)\r\n",
    "        {\r\n",
    "            if (list.Any(c => c == i))\r\n",
    "                list.Remove(i);\r\n",
    "            else { list[j] -= i; j++; \r\n",
    "                count++;}\r\n",
    "        }\r\n",
    "        if (i == limit)\r\n",
    "        {\r\n",
    "            count++;\r\n",
    "            list.Remove(i);\r\n",
    "        }\r\n",
    "        else if(i > limit)\r\n",
    "        {\r\n",
    "            count += i / limit;\r\n",
    "            list[j] -= i % limit;\r\n",
    "            j++;\r\n",
    "        }    \r\n",
    "    }\r\n",
    "    return count;\r\n",
    "}\r\n",
    "\r\n",
    "var people1 = new int[] { 1, 2 };\r\n",
    "\r\n",
    "var people2 = new int[] { 3, 5, 3, 4 };\r\n",
    "\r\n",
    "var limit1 = 3;\r\n",
    "var limit2 = 5;\r\n",
    "\r\n",
    "var expected1= 1;\r\n",
    "var expected2 = 4;\r\n",
    "var actual1 = GetCount(people1, limit1);\r\n",
    "var actual2 = GetCount(people2, limit2);\r\n",
    "\r\n",
    "Console.WriteLine($\"1 expected: {expected1}  actual: {actual1}\");\r\n",
    "Console.WriteLine($\"2 expected: {expected2}  actual: {actual2}\");"
   ],
   "outputs": [
    {
     "output_type": "stream",
     "name": "stdout",
     "text": [
      "1 expected: 1  actual: 1\r\n",
      "2 expected: 4  actual: 4\r\n"
     ]
    }
   ],
   "metadata": {
    "dotnet_interactive": {
     "language": "csharp"
    }
   }
  }
 ],
 "metadata": {
  "kernelspec": {
   "display_name": ".NET (C#)",
   "language": "C#",
   "name": ".net-csharp"
  },
  "language_info": {
   "file_extension": ".cs",
   "mimetype": "text/x-csharp",
   "name": "C#",
   "pygments_lexer": "csharp",
   "version": "8.0"
  }
 },
 "nbformat": 4,
 "nbformat_minor": 5
}