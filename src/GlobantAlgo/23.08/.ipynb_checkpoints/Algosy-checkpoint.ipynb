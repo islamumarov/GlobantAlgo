{
 "cells": [
  {
   "cell_type": "markdown",
   "id": "d2c6273f",
   "metadata": {},
   "source": [
    "### 1. Дан массив целых положительных чисел. вернуть максимальное число которое можно получить слиянием имеющихся чисел. вернуть строкой.\n",
    "* nums = [5,25] -> \"525\"\n",
    "* nums = [30,10] -> \"3010\"\n",
    "* nums = [2,7] -> \"72\" \n"
   ]
  },
  {
   "cell_type": "code",
   "execution_count": 2,
   "id": "6efc85d2",
   "metadata": {},
   "outputs": [
    {
     "name": "stdout",
     "output_type": "stream",
     "text": [
      "732161510\r\n"
     ]
    }
   ],
   "source": [
    "string getMax(int[] arr)\n",
    "{\n",
    "    List<string> vs= new List<string>();\n",
    "    foreach (int i in arr)\n",
    "    {\n",
    "        vs.Add(i.ToString());\n",
    "    }\n",
    "    vs.Sort((a,b)=> b.CompareTo(a));\n",
    "    return string.Join(\"\", vs);\n",
    "}\n",
    "var array = new int[] { 7, 2, 3, 10, 16, 15 };\n",
    "\n",
    "Console.WriteLine(getMax(array));"
   ]
  },
  {
   "cell_type": "markdown",
   "id": "43562627",
   "metadata": {},
   "source": [
    "2.  На экскурсию с дегустацией в кондитерскую приходят обжоры (people - массив с кол-вом килограммов, которые они съедят). найти минимальное количество тортов, которые они съедят, если все торты одинакового размера (limit). каждый обжора должен съесть все свои килограммы с одного торта.\n",
    "* ``people = [1,2], limit = 3 -> 1\n",
    "people = [3,5,3,4], limit = 5 -> 4``"
   ]
  },
  {
   "cell_type": "code",
   "execution_count": null,
   "id": "255b8208",
   "metadata": {},
   "outputs": [],
   "source": [
    "int GetCount(int[] people, int limit){\n",
    "    List<int> list = new List<int>(people.Length);\n",
    "    for(int i = 0; i < people.Length; i++) list.Add(limit);\n",
    "    int count = 0;\n",
    "    int j = 0;\n",
    "    foreach (int i in people)\n",
    "    {\n",
    "        if(i < limit)\n",
    "        {\n",
    "            if (list.Any(c => c == i))\n",
    "                list.Remove(i);\n",
    "            else { list[j] -= i; j++; \n",
    "                count++;}\n",
    "        }\n",
    "        if (i == limit)\n",
    "        {\n",
    "            count++;\n",
    "            list.Remove(i);\n",
    "        }\n",
    "        else if(i > limit)\n",
    "        {\n",
    "            count += i / limit;\n",
    "            list[j] -= i % limit;\n",
    "            j++;\n",
    "        }    \n",
    "    }\n",
    "    return count;\n",
    "}\n",
    "\n",
    "var people1 = new int[] { 1, 2 };\n",
    "\n",
    "var people2 = new int[] { 3, 5, 3, 4 };\n",
    "\n",
    "var limit1 = 3;\n",
    "var limit2 = 5;\n",
    "\n",
    "var expected1= 1;\n",
    "var expected2 = 5;\n",
    "var actual1 = GetCount(people1, limit1);\n",
    "var actual2 = GetCount(people2, limit2);\n",
    "\n",
    "Console.WriteLine($\"1 expected: {expected1}  actual: {actual1}\");\n",
    "Console.WriteLine($\"2 expected: {expected2}  actual: {actual2}\");"
   ]
  }
 ],
 "metadata": {
  "kernelspec": {
   "display_name": ".NET (C#)",
   "language": "C#",
   "name": ".net-csharp"
  },
  "language_info": {
   "file_extension": ".cs",
   "mimetype": "text/x-csharp",
   "name": "C#",
   "pygments_lexer": "csharp",
   "version": "8.0"
  }
 },
 "nbformat": 4,
 "nbformat_minor": 5
}
